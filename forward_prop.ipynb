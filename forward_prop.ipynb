{
 "cells": [
  {
   "cell_type": "markdown",
   "id": "7fa6cb17",
   "metadata": {},
   "source": [
    "Build a artifical single unit neuron.\n"
   ]
  },
  {
   "cell_type": "markdown",
   "id": "2194362c",
   "metadata": {},
   "source": [
    "Compute the data"
   ]
  },
  {
   "cell_type": "code",
   "execution_count": 30,
   "id": "d2fe2478",
   "metadata": {},
   "outputs": [],
   "source": [
    "import numpy as np \n",
    "import math"
   ]
  },
  {
   "cell_type": "code",
   "execution_count": 36,
   "id": "56251276",
   "metadata": {},
   "outputs": [],
   "source": [
    "# For non polynomial nodes\n",
    "def compute_node(feature:list, weights:list, bias: float | int):\n",
    "    weight_len = len(weights)\n",
    "    feature_len = len(feature)\n",
    "\n",
    "    if weight_len == feature_len:\n",
    "        computed_value = 0\n",
    "        for i in range(weight_len):\n",
    "            computed_value += feature[i] * weights[i]\n",
    "    else:\n",
    "        print(f\"Number of weights {weight_len} and number of feature {feature_len} doesn't match\")\n",
    "\n",
    "    return (computed_value + bias)\n",
    "    "
   ]
  },
  {
   "cell_type": "code",
   "execution_count": 37,
   "id": "44f12985",
   "metadata": {},
   "outputs": [],
   "source": [
    "def activate_node(z: float|int):\n",
    "    # return (1/(1+np.exp(-z))) \n",
    "    return (1/(1+math.e**(-z))) "
   ]
  },
  {
   "cell_type": "markdown",
   "id": "469da93e",
   "metadata": {},
   "source": [
    "Now generate random artificial data"
   ]
  },
  {
   "cell_type": "code",
   "execution_count": 50,
   "id": "4646a79b",
   "metadata": {},
   "outputs": [],
   "source": [
    "x = np.random.uniform(0,1,size=6)\n",
    "w = np.random.uniform(-1,1,size=6)\n",
    "bias = 3"
   ]
  },
  {
   "cell_type": "markdown",
   "id": "4275d459",
   "metadata": {},
   "source": [
    "Now build a single neuron:"
   ]
  },
  {
   "cell_type": "code",
   "execution_count": 51,
   "id": "067a3eb5",
   "metadata": {},
   "outputs": [],
   "source": [
    "def neuron(x:list,w:list,bias:int|float, activation:bool):\n",
    "    z = compute_node(x,w,bias)\n",
    "    if activation == True:\n",
    "        return activate_node(z)\n",
    "    else:\n",
    "        return z"
   ]
  },
  {
   "cell_type": "code",
   "execution_count": 52,
   "id": "b16ff39e",
   "metadata": {},
   "outputs": [
    {
     "data": {
      "text/plain": [
       "0.956251013716407"
      ]
     },
     "execution_count": 52,
     "metadata": {},
     "output_type": "execute_result"
    }
   ],
   "source": [
    "neuron(x,w,bias,activation=True)"
   ]
  },
  {
   "cell_type": "code",
   "execution_count": null,
   "id": "7a0a1300",
   "metadata": {},
   "outputs": [],
   "source": []
  }
 ],
 "metadata": {
  "kernelspec": {
   "display_name": "env2",
   "language": "python",
   "name": "python3"
  },
  "language_info": {
   "codemirror_mode": {
    "name": "ipython",
    "version": 3
   },
   "file_extension": ".py",
   "mimetype": "text/x-python",
   "name": "python",
   "nbconvert_exporter": "python",
   "pygments_lexer": "ipython3",
   "version": "3.12.3"
  }
 },
 "nbformat": 4,
 "nbformat_minor": 5
}
