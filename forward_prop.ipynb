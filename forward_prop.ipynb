{
 "cells": [
  {
   "cell_type": "markdown",
   "id": "7fa6cb17",
   "metadata": {},
   "source": [
    "Build a artifical single unit neuron.\n"
   ]
  },
  {
   "cell_type": "markdown",
   "id": "2194362c",
   "metadata": {},
   "source": [
    "Compute the data"
   ]
  },
  {
   "cell_type": "code",
   "execution_count": 30,
   "id": "d2fe2478",
   "metadata": {},
   "outputs": [],
   "source": [
    "import numpy as np \n",
    "import math"
   ]
  },
  {
   "cell_type": "code",
   "execution_count": 36,
   "id": "56251276",
   "metadata": {},
   "outputs": [],
   "source": [
    "# For non polynomial nodes\n",
    "def compute_node(feature:list, weights:list, bias: float | int):\n",
    "    weight_len = len(weights)\n",
    "    feature_len = len(feature)\n",
    "\n",
    "    if weight_len == feature_len:\n",
    "        computed_value = 0\n",
    "        for i in range(weight_len):\n",
    "            computed_value += feature[i] * weights[i]\n",
    "    else:\n",
    "        print(f\"Number of weights {weight_len} and number of feature {feature_len} doesn't match\")\n",
    "\n",
    "    return (computed_value + bias)\n",
    "    "
   ]
  },
  {
   "cell_type": "code",
   "execution_count": 37,
   "id": "44f12985",
   "metadata": {},
   "outputs": [],
   "source": [
    "def activate_node(z: float|int):\n",
    "    # return (1/(1+np.exp(-z))) \n",
    "    return (1/(1+math.e**(-z))) "
   ]
  },
  {
   "cell_type": "markdown",
   "id": "469da93e",
   "metadata": {},
   "source": [
    "Now generate random artificial data"
   ]
  },
  {
   "cell_type": "code",
   "execution_count": 68,
   "id": "4646a79b",
   "metadata": {},
   "outputs": [
    {
     "name": "stderr",
     "output_type": "stream",
     "text": [
      "C:\\Users\\dipak\\AppData\\Local\\Temp\\ipykernel_19752\\859505212.py:3: DeprecationWarning: Conversion of an array with ndim > 0 to a scalar is deprecated, and will error in future. Ensure you extract a single element from your array before performing this operation. (Deprecated NumPy 1.25.)\n",
      "  bias = int(np.random.randint(-10,10,size=1))\n"
     ]
    }
   ],
   "source": [
    "x = np.random.uniform(0,1,size=6)\n",
    "w = np.random.uniform(-1,1,size=6)\n",
    "bias = int(np.random.randint(-10,10,size=1))"
   ]
  },
  {
   "cell_type": "markdown",
   "id": "4275d459",
   "metadata": {},
   "source": [
    "Now build a single neuron:"
   ]
  },
  {
   "cell_type": "code",
   "execution_count": 83,
   "id": "067a3eb5",
   "metadata": {},
   "outputs": [],
   "source": [
    "def neuron(x:list,w:list,bias:int|float,activation:bool):\n",
    "    z = compute_node(x,w,bias)\n",
    "    if activation == True:\n",
    "        return activate_node(z)\n",
    "    else:\n",
    "        return z"
   ]
  },
  {
   "cell_type": "code",
   "execution_count": 84,
   "id": "b16ff39e",
   "metadata": {},
   "outputs": [
    {
     "data": {
      "text/plain": [
       "0.9998865702509439"
      ]
     },
     "execution_count": 84,
     "metadata": {},
     "output_type": "execute_result"
    }
   ],
   "source": [
    "neuron(x=x,w=w,bias=bias, activation=True)"
   ]
  },
  {
   "cell_type": "markdown",
   "id": "609ce5a0",
   "metadata": {},
   "source": [
    "Building a network"
   ]
  },
  {
   "cell_type": "code",
   "execution_count": 135,
   "id": "7a0a1300",
   "metadata": {},
   "outputs": [],
   "source": [
    "def Layers(units:list, inputs:list):\n",
    "    np.random.seed(0)\n",
    "    weights_bias = {}\n",
    "    for i in range(len(units)):\n",
    "        weights_bias[f\"layer_{i}\"] = {\"weights\":{},\"bias\":{},\"outputs\":[]}\n",
    "        outputs = []   \n",
    "        for j in range(units[i]):\n",
    "            w=np.random.uniform(-1,1,size=len(inputs))\n",
    "            weights_bias[f\"layer_{i}\"][\"weights\"][f\"neuron_{j}\"] = w\n",
    "            bias=int(np.random.randint(-10,10,size=1))\n",
    "            weights_bias[f\"layer_{i}\"][\"bias\"][f\"neuron_{j}\"] = bias\n",
    "            activate_node=True\n",
    "            outputs.append(neuron(inputs,w,bias,activate_node))\n",
    "        weights_bias[f\"layer_{i}\"][\"outputs\"] = outputs\n",
    "        inputs = outputs\n",
    "    return outputs,weights_bias\n"
   ]
  },
  {
   "cell_type": "code",
   "execution_count": 136,
   "id": "f10c9c6a",
   "metadata": {},
   "outputs": [
    {
     "name": "stderr",
     "output_type": "stream",
     "text": [
      "C:\\Users\\dipak\\AppData\\Local\\Temp\\ipykernel_19752\\696549810.py:10: DeprecationWarning: Conversion of an array with ndim > 0 to a scalar is deprecated, and will error in future. Ensure you extract a single element from your array before performing this operation. (Deprecated NumPy 1.25.)\n",
      "  bias=int(np.random.randint(-10,10,size=1))\n"
     ]
    },
    {
     "data": {
      "text/plain": [
       "([0.00020973307999397524],\n",
       " {'layer_0': {'weights': {'neuron_0': array([ 0.09762701,  0.43037873,  0.20552675,  0.08976637, -0.1526904 ,\n",
       "            0.29178823]),\n",
       "    'neuron_1': array([-0.40493079, -0.88657405, -0.45468741, -0.04466977,  0.62433746,\n",
       "           -0.04004566]),\n",
       "    'neuron_2': array([ 0.85119328, -0.85792788, -0.8257414 , -0.95956321,  0.66523969,\n",
       "            0.5563135 ]),\n",
       "    'neuron_3': array([ 0.74017452, -0.05278391,  0.6018215 ,  0.04095496,  0.35775906,\n",
       "            0.44126531]),\n",
       "    'neuron_4': array([-0.71329343,  0.88933783,  0.04369664, -0.17067612, -0.47088878,\n",
       "            0.54846738])},\n",
       "   'bias': {'neuron_0': -6,\n",
       "    'neuron_1': 7,\n",
       "    'neuron_2': 5,\n",
       "    'neuron_3': -9,\n",
       "    'neuron_4': -8},\n",
       "   'outputs': [0.0046937830498916784,\n",
       "    0.9976682913944723,\n",
       "    0.994024373649362,\n",
       "    0.00042979234399750016,\n",
       "    0.0003628883760057158]},\n",
       "  'layer_1': {'weights': {'neuron_0': array([-0.72956365, -0.35171798, -0.70065027, -0.55535722, -0.22702204]),\n",
       "    'neuron_1': array([ 0.3636406 , -0.2809842 , -0.12593609,  0.39526239, -0.87954906]),\n",
       "    'neuron_2': array([ 0.30628007, -0.65818083, -0.28369567,  0.50137228,  0.21566134]),\n",
       "    'neuron_3': array([ 0.14039354, -0.12279697,  0.97674768, -0.79591038, -0.58224649])},\n",
       "   'bias': {'neuron_0': -6, 'neuron_1': -7, 'neuron_2': 2, 'neuron_3': -7},\n",
       "   'outputs': [0.0008656993489969066,\n",
       "    0.0006084695590490495,\n",
       "    0.7432796147544912,\n",
       "    0.0021257681278814516]},\n",
       "  'layer_2': {'weights': {'neuron_0': array([ 0.99059914,  0.16370066, -0.17126282, -0.050605  ]),\n",
       "    'neuron_1': array([-0.77924972,  0.31265918, -0.7236341 , -0.60683528]),\n",
       "    'neuron_2': array([ 0.32505373, -0.97285673,  0.24569219,  0.34731926])},\n",
       "   'bias': {'neuron_0': 5, 'neuron_1': -10, 'neuron_2': 6},\n",
       "   'outputs': [0.9924118730083877, 2.646563967015472e-05, 0.9979401204453083]},\n",
       "  'layer_3': {'weights': {'neuron_0': array([ 0.95291893, -0.0626976 ,  0.95352218]),\n",
       "    'neuron_1': array([-0.09768157, -0.96002467, -0.11657816])},\n",
       "   'bias': {'neuron_0': -3, 'neuron_1': 1},\n",
       "   'outputs': [0.24922394091431843, 0.6871215053286323]},\n",
       "  'layer_4': {'weights': {'neuron_0': array([-0.75960688, -0.4077196 ])},\n",
       "   'bias': {'neuron_0': -8},\n",
       "   'outputs': [0.00020973307999397524]}})"
      ]
     },
     "execution_count": 136,
     "metadata": {},
     "output_type": "execute_result"
    }
   ],
   "source": [
    "Layers([5,4,3,2,1], inputs=x)"
   ]
  },
  {
   "cell_type": "code",
   "execution_count": null,
   "id": "0592e681",
   "metadata": {},
   "outputs": [],
   "source": []
  }
 ],
 "metadata": {
  "kernelspec": {
   "display_name": "env2",
   "language": "python",
   "name": "python3"
  },
  "language_info": {
   "codemirror_mode": {
    "name": "ipython",
    "version": 3
   },
   "file_extension": ".py",
   "mimetype": "text/x-python",
   "name": "python",
   "nbconvert_exporter": "python",
   "pygments_lexer": "ipython3",
   "version": "3.12.3"
  }
 },
 "nbformat": 4,
 "nbformat_minor": 5
}
